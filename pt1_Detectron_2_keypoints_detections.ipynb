{
  "nbformat": 4,
  "nbformat_minor": 0,
  "metadata": {
    "colab": {
      "name": "pt1-Detectron 2 keypoints detections",
      "provenance": [],
      "collapsed_sections": [],
      "mount_file_id": "1mpiYmRD-bYJhVGdEjiV84yxmp4H2U57l",
      "authorship_tag": "ABX9TyMbPnZ3qIwK9sZ1Y6ABUnKf",
      "include_colab_link": true
    },
    "kernelspec": {
      "name": "python3",
      "display_name": "Python 3"
    },
    "accelerator": "GPU"
  },
  "cells": [
    {
      "cell_type": "markdown",
      "metadata": {
        "id": "view-in-github",
        "colab_type": "text"
      },
      "source": [
        "<a href=\"https://colab.research.google.com/github/kunal-git-002/pose-estimation/blob/master/pt1_Detectron_2_keypoints_detections.ipynb\" target=\"_parent\"><img src=\"https://colab.research.google.com/assets/colab-badge.svg\" alt=\"Open In Colab\"/></a>"
      ]
    },
    {
      "cell_type": "markdown",
      "metadata": {
        "id": "m6TPweK2dpw5",
        "colab_type": "text"
      },
      "source": [
        "Git hub link for detectron 2\n",
        "\n",
        ">https://github.com/facebookresearch/detectron2\n",
        "\n"
      ]
    },
    {
      "cell_type": "markdown",
      "metadata": {
        "id": "KX1hX8H6dFUr",
        "colab_type": "text"
      },
      "source": [
        "about detectron 2\n",
        "\n",
        "> detectron official :[https://detectron2.readthedocs.io/](https://detectron2.readthedocs.io/)\n",
        "\n",
        "\n",
        "\n",
        ">[https://ai.facebook.com/blog/-detectron2-a-pytorch-based-modular-object-detection-library-/](https://ai.facebook.com/blog/-detectron2-a-pytorch-based-modular-object-detection-library-/)\n",
        "\n",
        "> [https://research.fb.com/downloads/detectron/](https://research.fb.com/downloads/detectron/)\n",
        "\n",
        "\n",
        "\n"
      ]
    },
    {
      "cell_type": "markdown",
      "metadata": {
        "id": "uvrE_aiCbpa8",
        "colab_type": "text"
      },
      "source": [
        "***more abt keypoints:***\n",
        "\n",
        "> [https://detectron2.readthedocs.io/_modules/detectron2/structures/keypoints.html](https://detectron2.readthedocs.io/_modules/detectron2/structures/keypoints.html)\n",
        "\n"
      ]
    },
    {
      "cell_type": "code",
      "metadata": {
        "id": "I9k1F6zWH8F0",
        "colab_type": "code",
        "colab": {
          "base_uri": "https://localhost:8080/",
          "height": 123
        },
        "outputId": "e34bc706-2d1d-4ff3-f3b5-eaa9744768a4"
      },
      "source": [
        "# install dependencies: \n",
        "!pip install pyyaml==5.1 pycocotools>=2.0.1\n",
        "import torch, torchvision\n",
        "print(torch.__version__, torch.cuda.is_available())\n",
        "!gcc --version\n",
        "# opencv is pre-installed on colab"
      ],
      "execution_count": 1,
      "outputs": [
        {
          "output_type": "stream",
          "text": [
            "1.6.0+cu101 True\n",
            "gcc (Ubuntu 7.5.0-3ubuntu1~18.04) 7.5.0\n",
            "Copyright (C) 2017 Free Software Foundation, Inc.\n",
            "This is free software; see the source for copying conditions.  There is NO\n",
            "warranty; not even for MERCHANTABILITY or FITNESS FOR A PARTICULAR PURPOSE.\n",
            "\n"
          ],
          "name": "stdout"
        }
      ]
    },
    {
      "cell_type": "code",
      "metadata": {
        "id": "t-PPCdQmN9zA",
        "colab_type": "code",
        "colab": {}
      },
      "source": [
        "# install detectron2: (Colab has CUDA 10.1 + torch 1.6)\n",
        "# See https://detectron2.readthedocs.io/tutorials/install.html for instructions\n",
        "assert torch.__version__.startswith(\"1.6\")\n",
        "!pip install detectron2 -f https://dl.fbaipublicfiles.com/detectron2/wheels/cu101/torch1.6/index.html"
      ],
      "execution_count": null,
      "outputs": []
    },
    {
      "cell_type": "code",
      "metadata": {
        "id": "xC2p6FAGN-Tq",
        "colab_type": "code",
        "colab": {}
      },
      "source": [
        "# Some basic setup:\n",
        "# Setup detectron2 logger\n",
        "import detectron2\n",
        "from detectron2.utils.logger import setup_logger\n",
        "setup_logger()\n",
        "\n",
        "# import some common libraries\n",
        "import numpy as np\n",
        "import os, json, cv2, random\n",
        "from google.colab.patches import cv2_imshow\n",
        "\n",
        "# import some common detectron2 utilities\n",
        "from detectron2 import model_zoo\n",
        "from detectron2.engine import DefaultPredictor\n",
        "from detectron2.config import get_cfg\n",
        "from detectron2.utils.visualizer import Visualizer\n",
        "from detectron2.data import MetadataCatalog, DatasetCatalog"
      ],
      "execution_count": 3,
      "outputs": []
    },
    {
      "cell_type": "code",
      "metadata": {
        "id": "dQQqUZ0OOJOA",
        "colab_type": "code",
        "colab": {}
      },
      "source": [
        "im = cv2.imread(\"/content/drive/My Drive/pose detection/caffe_models/imgs/pose5.jpg\")\n"
      ],
      "execution_count": 12,
      "outputs": []
    },
    {
      "cell_type": "code",
      "metadata": {
        "id": "Z0Vd1aqcOLf4",
        "colab_type": "code",
        "colab": {
          "base_uri": "https://localhost:8080/",
          "height": 235
        },
        "outputId": "799f3de8-144a-4a5c-9236-bb25e498974c"
      },
      "source": [
        "# Inference with a keypoint detection model\n",
        "cfg = get_cfg()\n",
        "cfg.merge_from_file(model_zoo.get_config_file(\"COCO-Keypoints/keypoint_rcnn_R_50_FPN_3x.yaml\"))\n",
        "cfg.MODEL.ROI_HEADS.SCORE_THRESH_TEST = 0.7  # set threshold for this model\n",
        "cfg.MODEL.WEIGHTS = model_zoo.get_checkpoint_url(\"COCO-Keypoints/keypoint_rcnn_R_50_FPN_3x.yaml\")\n",
        "predictor = DefaultPredictor(cfg)\n",
        "\n",
        "outputs = predictor(im)#return a dictionaries\n",
        "\n",
        "v = Visualizer(im[:,:,::-1], MetadataCatalog.get(cfg.DATASETS.TRAIN[0]), scale=1.2)\n",
        "out = v.draw_instance_predictions(outputs[\"instances\"].to(\"cpu\"))\n",
        "cv2_imshow(out.get_image()[:, :, ::-1])"
      ],
      "execution_count": 13,
      "outputs": [
        {
          "output_type": "display_data",
          "data": {
            "image/png": "[encoded data removed]",
            "text/plain": [
              "<PIL.Image.Image image mode=RGB size=330x219 at 0x7F8AB676BF98>"
            ]
          },
          "metadata": {
            "tags": []
          }
        }
      ]
    },
    {
      "cell_type": "code",
      "metadata": {
        "id": "Gz018aADi1td",
        "colab_type": "code",
        "colab": {}
      },
      "source": [
        "outputs"
      ],
      "execution_count": null,
      "outputs": []
    },
    {
      "cell_type": "markdown",
      "metadata": {
        "id": "GuU7LDIlZZud",
        "colab_type": "text"
      },
      "source": [
        "***keypoints outputs description***:[https://detectron2.readthedocs.io/tutorials/models.html#model-output-format](https://detectron2.readthedocs.io/tutorials/models.html#model-output-format)\n",
        "\n",
        "> “instances”: Instances object with the following fields:\n",
        "\n",
        "\n",
        "\n",
        "> “pred_boxes”: Boxes object storing N boxes, one for each detected instance.\n",
        "\n",
        "\n",
        "\n",
        "> “scores”: Tensor, a vector of N scores.\n",
        "\n",
        "\n",
        "\n",
        ">“pred_classes”: Tensor, a vector of N labels in range [0, num_categories).\n",
        "\n",
        "\n",
        "> “pred_masks”: a Tensor of shape (N, H, W), masks for each detected instance.\n",
        "\n",
        "> “pred_keypoints”: a Tensor of shape (N, num_keypoint, 3). Each row in the last dimension is (x, y, score). Scores are larger than 0.\n",
        "\n",
        "\n",
        "\n",
        "\n",
        "\n",
        "\n",
        "\n",
        "\n",
        "\n",
        "\n",
        "\n",
        "\n",
        "\n"
      ]
    },
    {
      "cell_type": "markdown",
      "metadata": {
        "id": "WDvLXUs0frY7",
        "colab_type": "text"
      },
      "source": [
        "extra work custom dataset\n",
        "\n",
        "> [https://detectron2.readthedocs.io/tutorials/datasets.html](https://detectron2.readthedocs.io/tutorials/datasets.html)\n",
        "\n"
      ]
    },
    {
      "cell_type": "markdown",
      "metadata": {
        "id": "GkO1HKCGW7bY",
        "colab_type": "text"
      },
      "source": [
        "# getting the points data"
      ]
    },
    {
      "cell_type": "code",
      "metadata": {
        "id": "q2UNPsf_kLpo",
        "colab_type": "code",
        "colab": {}
      },
      "source": [
        "ar=np.array([[6.1485e+02, 1.6885e+02, 1.1249e+00],\n",
        "          [6.3580e+02, 1.5086e+02, 1.6569e+00],\n",
        "          [5.9538e+02, 1.5086e+02, 1.6675e+00],\n",
        "          [6.6574e+02, 1.5686e+02, 1.5048e+00],\n",
        "          [5.6844e+02, 1.5836e+02, 1.6483e+00],\n",
        "          [7.1814e+02, 3.0083e+02, 3.8008e-01],\n",
        "          [5.1305e+02, 3.0083e+02, 3.8692e-01],\n",
        "          [7.4209e+02, 4.6581e+02, 6.9941e-01],\n",
        "          [4.8610e+02, 4.7181e+02, 1.0439e+00],\n",
        "          [7.8251e+02, 6.1129e+02, 1.0352e+00],\n",
        "          [4.3819e+02, 6.1428e+02, 8.1868e-01],\n",
        "          [6.7922e+02, 6.1878e+02, 1.6900e-01],\n",
        "          [5.4598e+02, 6.1578e+02, 2.0307e-01],\n",
        "          [6.5826e+02, 8.6475e+02, 4.8749e-01],\n",
        "          [5.6844e+02, 8.6625e+02, 5.5913e-01],\n",
        "          [6.4628e+02, 1.0882e+03, 4.4645e-01],\n",
        "          [5.8640e+02, 1.0882e+03, 4.7909e-01]])\n",
        "for i in ar:\n",
        "  print(i[2])"
      ],
      "execution_count": null,
      "outputs": []
    },
    {
      "cell_type": "code",
      "metadata": {
        "id": "XvaP7GEwkeqZ",
        "colab_type": "code",
        "colab": {}
      },
      "source": [
        "for i in range(len(ar)):\n",
        "  x,y,t=ar[i]\n",
        "  cv2.circle(im,\n",
        "             (int(x),int(y)),\n",
        "             5,\n",
        "             (0,0,255),\n",
        "             -1)\n",
        "  \n",
        "  cv2.putText(im,\n",
        "              str(i),\n",
        "              (int(x),int(y)),\n",
        "              cv2.FONT_HERSHEY_PLAIN,\n",
        "              2,\n",
        "              (0,255,255),\n",
        "              2)\n",
        "  if i==len(ar)-1:\n",
        "    cv2_imshow(im)\n",
        "\n",
        "\n"
      ],
      "execution_count": null,
      "outputs": []
    },
    {
      "cell_type": "code",
      "metadata": {
        "id": "z_an6NAUqKcM",
        "colab_type": "code",
        "colab": {}
      },
      "source": [
        "human_keypoints={0: 'nose',\n",
        " 1: 'left_eye',\n",
        " 2: 'right_eye',\n",
        " 3: 'left_ear',\n",
        " 4: 'right_ear',\n",
        " 5: 'left_shoulder',\n",
        " 6: 'right_shoulder',\n",
        " 7: 'left_elbow',\n",
        " 8: 'right_elbow',\n",
        " 9: 'left_wrist',\n",
        " 10: 'right_wrist',\n",
        " 11: 'left_hip',\n",
        " 12: 'right_hip',\n",
        " 13: 'left_knee',\n",
        " 14: 'right_knee',\n",
        " 15: 'left_ankle',\n",
        " 16: 'right_ankle'}"
      ],
      "execution_count": null,
      "outputs": []
    }
  ]
}